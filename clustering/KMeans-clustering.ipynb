{
 "cells": [
  {
   "cell_type": "code",
   "execution_count": 98,
   "metadata": {},
   "outputs": [],
   "source": [
    "from sklearn.feature_extraction.text import TfidfVectorizer\n",
    "from sklearn.feature_extraction.text import CountVectorizer\n",
    "from sklearn.cluster import KMeans\n",
    "from sklearn.cluster import MiniBatchKMeans\n",
    "from sklearn.metrics import adjusted_rand_score\n",
    "from stop_words import get_stop_words"
   ]
  },
  {
   "cell_type": "code",
   "execution_count": 99,
   "metadata": {},
   "outputs": [],
   "source": [
    "import pymongo\n",
    "from pymongo import MongoClient\n",
    "\n",
    "documents = []\n",
    "\n",
    "client = MongoClient('mongodb://localhost:27017/')\n",
    "db = client.fake_news\n",
    "posts = db.post\n",
    "for news in posts.find().limit(600):\n",
    "    #print(news['title'])\n",
    "    documents.append(news['text'])"
   ]
  },
  {
   "cell_type": "code",
   "execution_count": 100,
   "metadata": {},
   "outputs": [
    {
     "name": "stderr",
     "output_type": "stream",
     "text": [
      "c:\\users\\user\\appdata\\local\\programs\\python\\python37\\lib\\site-packages\\sklearn\\feature_extraction\\text.py:300: UserWarning: Your stop_words may be inconsistent with your preprocessing. Tokenizing the stop words generated tokens ['дев', 'ласка', 'разу', 'ятий', 'ятнадцятий', 'ятнадцять', 'ять', 'ім'] not in stop_words.\n",
      "  'stop_words.' % sorted(inconsistent))\n"
     ]
    }
   ],
   "source": [
    "stop_words = get_stop_words('russian')+get_stop_words('ukrainian')\n",
    "vectorizer = TfidfVectorizer(stop_words=stop_words)\n",
    "X = vectorizer.fit_transform(documents)"
   ]
  },
  {
   "cell_type": "code",
   "execution_count": 101,
   "metadata": {},
   "outputs": [],
   "source": [
    "import numpy as np\n",
    "N = 20\n",
    "idx = np.ravel(X.sum(axis=0).argsort(axis=1))[::-1][:N]\n",
    "top_10_words = np.array(vectorizer.get_feature_names())[idx].tolist()"
   ]
  },
  {
   "cell_type": "code",
   "execution_count": 102,
   "metadata": {},
   "outputs": [
    {
     "name": "stdout",
     "output_type": "stream",
     "text": [
      "['сша', 'августа', 'украины', 'obozrevatel', 'украина', 'россии', 'ранее', 'com', 'серпня', 'рбк', 'президента', '20', 'посилання', '2019', 'читайте', 'президент', 'сообщал', 'результате', 'дату', 'области']\n"
     ]
    }
   ],
   "source": [
    "print(top_10_words)"
   ]
  },
  {
   "cell_type": "code",
   "execution_count": 134,
   "metadata": {},
   "outputs": [
    {
     "name": "stdout",
     "output_type": "stream",
     "text": [
      "Init 1/1 with method: k-means++\n",
      "Inertia for init 1/1: 48.103079\n",
      "Minibatch iteration 1/300: mean batch inertia: 1.040317, ewa inertia: 1.040317 \n",
      "Minibatch iteration 2/300: mean batch inertia: 0.995954, ewa inertia: 1.037364 \n",
      "Minibatch iteration 3/300: mean batch inertia: 1.007908, ewa inertia: 1.035404 \n",
      "Minibatch iteration 4/300: mean batch inertia: 0.988465, ewa inertia: 1.032279 \n",
      "Minibatch iteration 5/300: mean batch inertia: 0.994693, ewa inertia: 1.029778 \n",
      "Minibatch iteration 6/300: mean batch inertia: 0.978676, ewa inertia: 1.026377 \n",
      "Minibatch iteration 7/300: mean batch inertia: 0.998741, ewa inertia: 1.024537 \n",
      "Minibatch iteration 8/300: mean batch inertia: 0.969492, ewa inertia: 1.020874 \n",
      "Minibatch iteration 9/300: mean batch inertia: 0.992235, ewa inertia: 1.018968 \n",
      "Minibatch iteration 10/300: mean batch inertia: 0.955184, ewa inertia: 1.014723 \n",
      "[MiniBatchKMeans] Reassigning 4 cluster centers.\n",
      "Minibatch iteration 11/300: mean batch inertia: 0.979680, ewa inertia: 1.012390 \n",
      "Minibatch iteration 12/300: mean batch inertia: 0.992476, ewa inertia: 1.011065 \n",
      "Minibatch iteration 13/300: mean batch inertia: 0.983303, ewa inertia: 1.009217 \n",
      "Minibatch iteration 14/300: mean batch inertia: 0.988831, ewa inertia: 1.007860 \n",
      "Minibatch iteration 15/300: mean batch inertia: 0.973963, ewa inertia: 1.005604 \n",
      "Minibatch iteration 16/300: mean batch inertia: 0.958908, ewa inertia: 1.002496 \n",
      "Minibatch iteration 17/300: mean batch inertia: 0.935404, ewa inertia: 0.998031 \n",
      "Minibatch iteration 18/300: mean batch inertia: 0.938469, ewa inertia: 0.994067 \n",
      "Minibatch iteration 19/300: mean batch inertia: 0.980974, ewa inertia: 0.993196 \n",
      "Minibatch iteration 20/300: mean batch inertia: 0.979935, ewa inertia: 0.992313 \n",
      "Minibatch iteration 21/300: mean batch inertia: 0.958069, ewa inertia: 0.990034 \n",
      "Minibatch iteration 22/300: mean batch inertia: 0.935736, ewa inertia: 0.986420 \n",
      "Minibatch iteration 23/300: mean batch inertia: 0.977433, ewa inertia: 0.985822 \n",
      "Minibatch iteration 24/300: mean batch inertia: 0.989201, ewa inertia: 0.986047 \n",
      "Minibatch iteration 25/300: mean batch inertia: 0.960401, ewa inertia: 0.984340 \n",
      "Minibatch iteration 26/300: mean batch inertia: 0.931581, ewa inertia: 0.980829 \n",
      "Minibatch iteration 27/300: mean batch inertia: 0.978992, ewa inertia: 0.980706 \n",
      "[MiniBatchKMeans] Reassigning 3 cluster centers.\n",
      "Minibatch iteration 28/300: mean batch inertia: 0.924839, ewa inertia: 0.976988 \n",
      "Minibatch iteration 29/300: mean batch inertia: 0.987415, ewa inertia: 0.977682 \n",
      "[MiniBatchKMeans] Reassigning 4 cluster centers.\n",
      "Minibatch iteration 30/300: mean batch inertia: 0.975695, ewa inertia: 0.977550 \n",
      "Minibatch iteration 31/300: mean batch inertia: 0.955232, ewa inertia: 0.976064 \n",
      "Minibatch iteration 32/300: mean batch inertia: 0.964236, ewa inertia: 0.975277 \n",
      "Minibatch iteration 33/300: mean batch inertia: 0.970678, ewa inertia: 0.974971 \n",
      "Minibatch iteration 34/300: mean batch inertia: 0.927292, ewa inertia: 0.971798 \n",
      "Minibatch iteration 35/300: mean batch inertia: 0.981547, ewa inertia: 0.972447 \n",
      "Minibatch iteration 36/300: mean batch inertia: 0.977085, ewa inertia: 0.972755 \n",
      "Minibatch iteration 37/300: mean batch inertia: 0.936565, ewa inertia: 0.970347 \n",
      "Minibatch iteration 38/300: mean batch inertia: 0.986432, ewa inertia: 0.971417 \n",
      "Minibatch iteration 39/300: mean batch inertia: 0.978877, ewa inertia: 0.971914 \n",
      "Minibatch iteration 40/300: mean batch inertia: 0.956783, ewa inertia: 0.970907 \n",
      "Minibatch iteration 41/300: mean batch inertia: 0.937428, ewa inertia: 0.968678 \n",
      "Minibatch iteration 42/300: mean batch inertia: 0.975447, ewa inertia: 0.969129 \n",
      "Minibatch iteration 43/300: mean batch inertia: 0.825691, ewa inertia: 0.959582 \n",
      "Minibatch iteration 44/300: mean batch inertia: 0.982443, ewa inertia: 0.961104 \n",
      "Minibatch iteration 45/300: mean batch inertia: 0.965335, ewa inertia: 0.961385 \n",
      "Minibatch iteration 46/300: mean batch inertia: 0.962321, ewa inertia: 0.961448 \n",
      "Minibatch iteration 47/300: mean batch inertia: 0.911326, ewa inertia: 0.958112 \n",
      "Minibatch iteration 48/300: mean batch inertia: 0.930500, ewa inertia: 0.956274 \n",
      "Minibatch iteration 49/300: mean batch inertia: 0.885766, ewa inertia: 0.951581 \n",
      "Minibatch iteration 50/300: mean batch inertia: 0.908616, ewa inertia: 0.948722 \n",
      "Minibatch iteration 51/300: mean batch inertia: 0.918648, ewa inertia: 0.946720 \n",
      "Minibatch iteration 52/300: mean batch inertia: 0.956028, ewa inertia: 0.947340 \n",
      "Minibatch iteration 53/300: mean batch inertia: 0.981506, ewa inertia: 0.949614 \n",
      "[MiniBatchKMeans] Reassigning 4 cluster centers.\n",
      "Minibatch iteration 54/300: mean batch inertia: 0.970611, ewa inertia: 0.951011 \n",
      "Minibatch iteration 55/300: mean batch inertia: 0.855203, ewa inertia: 0.944635 \n",
      "Minibatch iteration 56/300: mean batch inertia: 0.983904, ewa inertia: 0.947248 \n",
      "Minibatch iteration 57/300: mean batch inertia: 0.966729, ewa inertia: 0.948545 \n",
      "Minibatch iteration 58/300: mean batch inertia: 0.964341, ewa inertia: 0.949596 \n",
      "Minibatch iteration 59/300: mean batch inertia: 0.929161, ewa inertia: 0.948236 \n",
      "Minibatch iteration 60/300: mean batch inertia: 0.980716, ewa inertia: 0.950398 \n",
      "Minibatch iteration 61/300: mean batch inertia: 0.960017, ewa inertia: 0.951038 \n",
      "Minibatch iteration 62/300: mean batch inertia: 0.974365, ewa inertia: 0.952590 \n",
      "[MiniBatchKMeans] Reassigning 3 cluster centers.\n",
      "Minibatch iteration 63/300: mean batch inertia: 0.975214, ewa inertia: 0.954096 \n",
      "Minibatch iteration 64/300: mean batch inertia: 0.983633, ewa inertia: 0.956062 \n",
      "Minibatch iteration 65/300: mean batch inertia: 0.961504, ewa inertia: 0.956424 \n",
      "Converged (lack of improvement in inertia) at iteration 65/300\n",
      "Computing label assignment and total inertia\n"
     ]
    },
    {
     "data": {
      "text/plain": [
       "MiniBatchKMeans(batch_size=20, compute_labels=True, init='k-means++',\n",
       "                init_size=None, max_iter=10, max_no_improvement=10,\n",
       "                n_clusters=10, n_init=1, random_state=None,\n",
       "                reassignment_ratio=0.01, tol=0.0, verbose=1)"
      ]
     },
     "execution_count": 134,
     "metadata": {},
     "output_type": "execute_result"
    }
   ],
   "source": [
    "true_k = 10\n",
    "model = MiniBatchKMeans(batch_size=20, n_clusters=true_k, init='k-means++', max_iter=10, n_init=1, verbose=1)\n",
    "model.fit(X)"
   ]
  },
  {
   "cell_type": "code",
   "execution_count": 135,
   "metadata": {},
   "outputs": [
    {
     "name": "stdout",
     "output_type": "stream",
     "text": [
      "Computing label assignment and total inertia\n"
     ]
    }
   ],
   "source": [
    "Y = model.predict(X)"
   ]
  },
  {
   "cell_type": "code",
   "execution_count": 136,
   "metadata": {},
   "outputs": [
    {
     "data": {
      "text/plain": [
       "array([6, 6, 6, 6, 6, 6, 6, 6, 6, 6, 6, 6, 6, 6, 0, 6, 6, 6, 6, 6, 6, 6,\n",
       "       6, 6, 6, 6, 6, 6, 6, 6, 6, 6, 6, 6, 6, 6, 6, 6, 6, 6, 6, 6, 6, 6,\n",
       "       6, 6, 6, 6, 6, 6, 6, 6, 6, 6, 6, 6, 6, 6, 6, 9, 6, 6, 6, 6, 6, 6,\n",
       "       6, 6, 6, 4, 6, 2, 6, 6, 6, 4, 6, 6, 6, 6, 6, 6, 6, 6, 6, 6, 6, 6,\n",
       "       9, 6, 6, 6, 6, 6, 6, 6, 9, 3, 6, 6, 3, 6, 6, 9, 6, 6, 6, 6, 6, 9,\n",
       "       6, 6, 6, 6, 4, 6, 1, 6, 6, 6, 6, 6, 6, 5, 6, 6, 6, 6, 1, 6, 6, 6,\n",
       "       6, 6, 6, 6, 6, 6, 6, 6, 6, 0, 6, 6, 6, 6, 6, 6, 6, 9, 9, 6, 6, 6,\n",
       "       6, 6, 6, 6, 6, 6, 6, 6, 6, 6, 6, 6, 5, 6, 6, 6, 3, 6, 6, 6, 3, 6,\n",
       "       6, 6, 6, 3, 5, 6, 6, 6, 6, 6, 6, 6, 6, 6, 6, 6, 6, 6, 6, 6, 6, 6,\n",
       "       6, 6, 3, 6, 6, 6, 6, 6, 6, 6, 6, 6, 6, 6, 6, 6, 6, 6, 6, 6, 6, 6,\n",
       "       6, 6, 6, 6, 6, 6, 6, 6, 6, 6, 6, 6, 6, 6, 6, 6, 6, 6, 6, 7, 6, 6,\n",
       "       6, 6, 6, 6, 6, 6, 6, 6, 6, 6, 6, 6, 6, 6, 6, 6, 6, 6, 6, 6, 6, 6,\n",
       "       6, 9, 6, 6, 6, 6, 6, 6, 6, 6, 6, 6, 6, 6, 6, 6, 6, 6, 6, 6, 6, 6,\n",
       "       6, 6, 6, 6, 6, 6, 6, 6, 6, 6, 6, 6, 6, 6, 6, 6, 9, 6, 6, 6, 6, 6,\n",
       "       6, 6, 6, 6, 6, 6, 4, 6, 6, 6, 6, 6, 9, 6, 4, 6, 9, 6, 6, 6, 6, 6,\n",
       "       6, 9, 6, 6, 6, 6, 6, 6, 6, 9, 6, 9, 6, 6, 6, 6, 6, 8, 6, 6, 6, 1,\n",
       "       6, 6, 9, 6, 6, 6, 6, 6, 6, 6, 6, 6, 6, 6, 6, 6, 6, 6, 6, 6, 6, 6,\n",
       "       6, 6, 6, 6, 9, 6, 6, 6, 6, 6, 4, 6, 5, 6, 9, 9, 6, 9, 6, 6, 6, 9,\n",
       "       9, 9, 6, 6, 6, 6, 6, 6, 6, 6, 6, 6, 6, 6, 6, 6, 9, 6, 6, 5, 6, 6,\n",
       "       6, 6, 6, 6, 6, 4, 6, 6, 6, 6, 6, 6, 6, 4, 6, 6, 6, 6, 6, 6, 6, 6,\n",
       "       6, 6, 6, 6, 6, 6, 6, 6, 6, 6, 6, 6, 6, 6, 6, 6, 6, 6, 6, 6, 6, 6,\n",
       "       6, 6, 6, 6, 6, 6, 6, 6, 6, 6, 6, 3, 6, 6, 6, 6, 6, 6, 6, 6, 6, 6,\n",
       "       6, 6, 6, 6, 6, 6, 6, 6, 6, 6, 6, 6, 6, 6, 6, 6, 6, 6, 6, 6, 6, 6,\n",
       "       6, 6, 9, 6, 9, 6, 6, 6, 6, 6, 6, 6, 6, 6, 4, 6, 6, 6, 6, 6, 6, 6,\n",
       "       6, 6, 6, 6, 6, 6, 6, 6, 6, 3, 6, 6, 6, 6, 1, 6, 1, 6, 6, 6, 6, 6,\n",
       "       9, 6, 6, 6, 6, 9, 9, 6, 6, 6, 6, 6, 6, 6, 6, 6, 6, 6, 6, 6, 6, 6,\n",
       "       6, 6, 9, 6, 6, 6, 6, 6, 6, 6, 6, 6, 6, 6, 3, 6, 6, 6, 4, 6, 6, 6,\n",
       "       6, 6, 6, 6, 6, 6])"
      ]
     },
     "execution_count": 136,
     "metadata": {},
     "output_type": "execute_result"
    }
   ],
   "source": [
    "Y"
   ]
  },
  {
   "cell_type": "code",
   "execution_count": 137,
   "metadata": {},
   "outputs": [
    {
     "name": "stdout",
     "output_type": "stream",
     "text": [
      "Cluster 0:\n",
      " готелі\n",
      " посилання\n",
      " уп\n",
      " зеленського\n",
      " депутатів\n",
      " com\n",
      " передрук\n",
      " суворо\n",
      " pravda\n",
      " засновник\n",
      "Cluster 1:\n",
      " ливня\n",
      " одессеdumskaya\n",
      " netпоследствия\n",
      " месси\n",
      " стрелкового\n",
      " оружия\n",
      " аргентины\n",
      " калибра\n",
      " футбола\n",
      " байк\n",
      "Cluster 2:\n",
      " задумываясь\n",
      " овентелецблизнецыраклевдевавесыскорпионстрелецкозерогводолейрыбыиногда\n",
      " ошибиться\n",
      " стабильными\n",
      " начнете\n",
      " интерпретации\n",
      " слушать\n",
      " хотели\n",
      " профессионального\n",
      " внимательно\n",
      "Cluster 3:\n",
      " грн\n",
      " курс\n",
      " доллара\n",
      " 25\n",
      " доллар\n",
      " евро\n",
      " гривен\n",
      " скрябина\n",
      " 28\n",
      " копеек\n",
      "Cluster 4:\n",
      " анти\n",
      " колорадос\n",
      " народа\n",
      " блогер\n",
      " партии\n",
      " верховной\n",
      " линия\n",
      " украинский\n",
      " фракции\n",
      " слуга\n",
      "Cluster 5:\n",
      " температура\n",
      " днем\n",
      " воздуха\n",
      " ночью\n",
      " пожарной\n",
      " направлений\n",
      " переменных\n",
      " составит\n",
      " 24\n",
      " градусов\n",
      "Cluster 6:\n",
      " сша\n",
      " августа\n",
      " серпня\n",
      " украины\n",
      " украина\n",
      " ранее\n",
      " 20\n",
      " президента\n",
      " україни\n",
      " obozrevatel\n",
      "Cluster 7:\n",
      " знаряддя\n",
      " лову\n",
      " поліцейські\n",
      " бичка\n",
      " відпрацювання\n",
      " поліції\n",
      " гривень\n",
      " браконьєрами\n",
      " воді\n",
      " природне\n",
      "Cluster 8:\n",
      " мусора\n",
      " переработки\n",
      " рейтинг\n",
      " утилизации\n",
      " свалки\n",
      " отходов\n",
      " россии\n",
      " могли\n",
      " материале\n",
      " сказано\n",
      "Cluster 9:\n",
      " акции\n",
      " задержанных\n",
      " москве\n",
      " санкций\n",
      " россии\n",
      " сша\n",
      " кандидатов\n",
      " выборы\n",
      " сергей\n",
      " солсбери\n"
     ]
    }
   ],
   "source": [
    "##### print(\"Top terms per cluster:\")\n",
    "order_centroids = model.cluster_centers_.argsort()[:, ::-1]\n",
    "terms = vectorizer.get_feature_names()\n",
    "for i in range(true_k):\n",
    "    print(\"Cluster %d:\" % i)\n",
    "    for ind in order_centroids[i, :10]:\n",
    "        print(' %s' % terms[ind])\n",
    "    print"
   ]
  },
  {
   "cell_type": "code",
   "execution_count": null,
   "metadata": {},
   "outputs": [],
   "source": []
  },
  {
   "cell_type": "code",
   "execution_count": null,
   "metadata": {},
   "outputs": [],
   "source": []
  }
 ],
 "metadata": {
  "kernelspec": {
   "display_name": "Python 3",
   "language": "python",
   "name": "python3"
  },
  "language_info": {
   "codemirror_mode": {
    "name": "ipython",
    "version": 3
   },
   "file_extension": ".py",
   "mimetype": "text/x-python",
   "name": "python",
   "nbconvert_exporter": "python",
   "pygments_lexer": "ipython3",
   "version": "3.7.2"
  }
 },
 "nbformat": 4,
 "nbformat_minor": 2
}
